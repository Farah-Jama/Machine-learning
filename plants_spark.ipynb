{
 "cells": [
  {
   "cell_type": "code",
   "execution_count": 1,
   "metadata": {
    "scrolled": true
   },
   "outputs": [
    {
     "name": "stderr",
     "output_type": "stream",
     "text": [
      "Using TensorFlow backend.\n"
     ]
    },
    {
     "name": "stdout",
     "output_type": "stream",
     "text": [
      "<pyspark.sql.session.SparkSession object at 0x10fdabbd0>\n"
     ]
    }
   ],
   "source": [
    "# necessary import \n",
    "from pyspark.sql import SparkSession\n",
    "# from pyspark.ml.image import ImageSchema\n",
    "from sparkdl import readImages\n",
    "from pyspark.sql.functions import lit\n",
    "from functools import reduce\n",
    "# create a spark session\n",
    "spark = SparkSession.builder.appName(\"spark\").getOrCreate()\n",
    "# loaded image\n",
    "\n",
    "print(spark)\n",
    "\n",
    "# img_dir = \"plant_dataset\"\n",
    "# apples_df = spark.read.format(\"image\").load(img_dir + \"/APPLE/HEALTHY\").withColumn(\"label\", lit(\"apple\"))\n",
    "# apricot_df = spark.read.format(\"image\").load(img_dir + \"/APRICOT/HEALTHY\").withColumn(\"label\", lit(\"apricot\"))\n",
    "# cherry_df = spark.read.format(\"image\").load(img_dir + \"/CHERRY/HEALTHY\").withColumn(\"label\", lit(\"cherry\"))\n",
    "# cranberry_df = spark.read.format(\"image\").load(img_dir + \"/CRANBERRY/HEALTHY\").withColumn(\"label\", lit(\"cranberry\"))\n",
    "# grapes_df = spark.read.format(\"image\").load(img_dir + \"/GRAPES/HEALTHY\").withColumn(\"label\", lit(\"grapes\"))\n",
    "# peach_df = spark.read.format(\"image\").load(img_dir + \"/PEACH/HEALTHY\").withColumn(\"label\", lit(\"peach\"))\n",
    "# pear_df = spark.read.format(\"image\").load(img_dir + \"/PEAR/HEALTHY\").withColumn(\"label\", lit(\"pear\"))\n",
    "# walnut_df = spark.read.format(\"image\").load(img_dir + \"/WALNUT/HEALTHY\").withColumn(\"label\", lit(\"walnut\"))\n",
    "\n",
    "\n",
    "img_dir = \"plant_dataset\"\n",
    "apples_df = readImages(img_dir + \"/APPLE/HEALTHY\").withColumn(\"label\", lit(\"apple\"))\n",
    "apricot_df = readImages(img_dir + \"/APRICOT/HEALTHY\").withColumn(\"label\", lit(\"apricot\"))\n",
    "cherry_df = readImages(img_dir + \"/CHERRY/HEALTHY\").withColumn(\"label\", lit(\"cherry\"))\n",
    "cranberry_df = readImages(img_dir + \"/CRANBERRY/HEALTHY\").withColumn(\"label\", lit(\"cranberry\"))\n",
    "grapes_df = readImages(img_dir + \"/GRAPES/HEALTHY\").withColumn(\"label\", lit(\"grapes\"))\n",
    "peach_df = readImages(img_dir + \"/PEACH/HEALTHY\").withColumn(\"label\", lit(\"peach\"))\n",
    "pear_df = readImages(img_dir + \"/PEAR/HEALTHY\").withColumn(\"label\", lit(\"pear\"))\n",
    "walnut_df = readImages(img_dir + \"/WALNUT/HEALTHY\").withColumn(\"label\", lit(\"walnut\"))\n",
    "\n",
    "\n",
    "dataframes = [apples_df, apricot_df, cherry_df, cranberry_df, grapes_df,\n",
    "             peach_df, pear_df, walnut_df]\n",
    "\n",
    "# merge data frame\n",
    "df = reduce(lambda first, second: first.union(second), dataframes)\n",
    "# repartition dataframe \n",
    "df = df.repartition(200)\n",
    "\n",
    "\n",
    "# split the data-frame\n",
    "train, test = df.randomSplit([0.8, 0.2], 42)"
   ]
  },
  {
   "cell_type": "code",
   "execution_count": 2,
   "metadata": {},
   "outputs": [
    {
     "data": {
      "text/plain": [
       "DataFrame[filePath: string, image: struct<mode:string,height:int,width:int,nChannels:int,data:binary>, label: string]"
      ]
     },
     "metadata": {},
     "output_type": "display_data"
    }
   ],
   "source": [
    "display(apples_df)"
   ]
  },
  {
   "cell_type": "code",
   "execution_count": 1,
   "metadata": {},
   "outputs": [
    {
     "name": "stderr",
     "output_type": "stream",
     "text": [
      "Using TensorFlow backend.\n"
     ]
    }
   ],
   "source": [
    "from pyspark.ml.evaluation import MulticlassClassificationEvaluator\n",
    "from pyspark.ml.classification import LogisticRegression\n",
    "from pyspark.ml import Pipeline\n",
    "from sparkdl import DeepImageFeaturizer\n",
    "import tensorflow as tf\n",
    "from tensorflow import keras\n",
    "\n",
    "# model: InceptionV3\n",
    "# extracting feature from images\n",
    "featurizer = DeepImageFeaturizer(inputCol=\"image\",\n",
    "                                 outputCol=\"features\",\n",
    "                                 modelName=\"InceptionV3\")\n",
    "                                 \n",
    "# used as a multi class classifier\n",
    "lr = LogisticRegression(maxIter=5, regParam=0.03, \n",
    "                        elasticNetParam=0.5, labelCol=\"label\")\n",
    "\n",
    "\n",
    "\n",
    "\n",
    "# define a pipeline model\n",
    "sparkdn = Pipeline(stages=[featurizer, lr])\n",
    "spark_model = sparkdn.fit(train)"
   ]
  },
  {
   "cell_type": "code",
   "execution_count": 2,
   "metadata": {},
   "outputs": [
    {
     "name": "stdout",
     "output_type": "stream",
     "text": [
      "F1-Score  0.8111782234361806.\n",
      "Precision  0.8422058244785519\n",
      "Recall  0.8090909090909091\n",
      "Accuracy  0.8090909090909091\n"
     ]
    }
   ],
   "source": [
    "from pyspark.ml.evaluation import MulticlassClassificationEvaluator\n",
    "# evaluate the model with test set\n",
    "evaluator = MulticlassClassificationEvaluator() \n",
    "tx_test = spark_model.transform(test)\n",
    "print('F1-Score ', evaluator.evaluate(tx_test, \n",
    "                                      {evaluator.metricName: 'f1'}))\n",
    "print('Precision ', evaluator.evaluate(tx_test,\n",
    "                                       {evaluator.metricName:                    'weightedPrecision'}))\n",
    "print('Recall ', evaluator.evaluate(tx_test, \n",
    "                                    {evaluator.metricName: 'weightedRecall'}))\n",
    "print('Accuracy ', evaluator.evaluate(tx_test, \n",
    "                                      {evaluator.metricName: 'accuracy'}))"
   ]
  },
  {
   "cell_type": "code",
   "execution_count": 12,
   "metadata": {},
   "outputs": [],
   "source": [
    "import matplotlib.pyplot as plt\n",
    "import numpy as np\n",
    "import itertools\n",
    "def plot_confusion_matrix(cm, classes,\n",
    "                          normalize=False,\n",
    "                          title='Confusion matrix',\n",
    "                          cmap=plt.cm.GnBu):\n",
    "    plt.imshow(cm, interpolation='nearest', cmap=cmap)\n",
    "    \n",
    "    plt.title(title)\n",
    "    tick_marks = np.arange(len(classes))\n",
    "    plt.xticks(tick_marks, classes, rotation=45)\n",
    "    plt.yticks(tick_marks, classes)\n",
    "    \n",
    "    fmt = '.2f' if normalize else 'd'\n",
    "    thresh = cm.max() / 2.\n",
    "    for i, j in itertools.product(range(cm.shape[0]), range(cm.shape[1])):\n",
    "        plt.text(j, i, format(cm[i, j], fmt),\n",
    "                 horizontalalignment=\"center\",\n",
    "                 color=\"white\" if cm[i, j] > thresh else \"black\")\n",
    "   \n",
    "    plt.tight_layout()\n",
    "    plt.ylabel('True label')\n",
    "    plt.xlabel('Predicted label')"
   ]
  },
  {
   "cell_type": "code",
   "execution_count": 13,
   "metadata": {},
   "outputs": [],
   "source": [
    "from sklearn.metrics import confusion_matrix\n",
    "y_true = [\"apples_df\", \"apricot_df\", \"cherry_df\", \"cranberry_df\", \"grapes_df\",\n",
    "             \"peach_df\", \"pear_df\", \"walnut_df\"]\n",
    "\n",
    "y_pred = [\"apples_df\", \"pear_df\", \"cherry_df\", \"cranberry_df\", \"grapes_df\",\n",
    "             \"peach_df\", \"pear_df\", \"walnut_df\"]\n",
    "\n",
    "cnf_matrix = confusion_matrix(y_true, y_pred,labels=[\"apples_df\", \"apricot_df\", \"cherry_df\", \"cranberry_df\", \"grapes_df\",\n",
    "             \"peach_df\", \"pear_df\", \"walnut_df\"])"
   ]
  },
  {
   "cell_type": "code",
   "execution_count": 15,
   "metadata": {},
   "outputs": [
    {
     "data": {
      "image/png": "[encoded data removed]",
      "text/plain": [
       "<Figure size 576x576 with 1 Axes>"
      ]
     },
     "metadata": {},
     "output_type": "display_data"
    }
   ],
   "source": [
    "import seaborn as sns\n",
    "%matplotlib inline\n",
    "sns.set_style(\"darkgrid\")\n",
    "plt.figure(figsize=(8,8))\n",
    "plt.grid(False)\n",
    "# call pre defined function\n",
    "plot_confusion_matrix(cnf_matrix, classes=range(10))"
   ]
  },
  {
   "cell_type": "code",
   "execution_count": null,
   "metadata": {},
   "outputs": [],
   "source": []
  }
 ],
 "metadata": {
  "kernelspec": {
   "display_name": "Python 3",
   "language": "python",
   "name": "python3"
  },
  "language_info": {
   "codemirror_mode": {
    "name": "ipython",
    "version": 3
   },
   "file_extension": ".py",
   "mimetype": "text/x-python",
   "name": "python",
   "nbconvert_exporter": "python",
   "pygments_lexer": "ipython3",
   "version": "3.7.7"
  }
 },
 "nbformat": 4,
 "nbformat_minor": 2
}
